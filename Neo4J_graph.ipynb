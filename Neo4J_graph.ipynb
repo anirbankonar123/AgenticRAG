{
 "cells": [
  {
   "cell_type": "code",
   "execution_count": 1,
   "metadata": {},
   "outputs": [],
   "source": [
    "NEO4J_URI = \"<your url>\"\n",
    "NEO4J_USERNAME = \"neo4j\"\n",
    "NEO4J_PASSWORD = \"<your pwd>\"\n",
    "NEO4J_DATABASE = \"neo4j\""
   ]
  },
  {
   "cell_type": "code",
   "execution_count": 2,
   "metadata": {},
   "outputs": [
    {
     "name": "stderr",
     "output_type": "stream",
     "text": [
      "/home/anish/anaconda3/envs/llama_env/lib/python3.11/site-packages/tqdm/auto.py:21: TqdmWarning: IProgress not found. Please update jupyter and ipywidgets. See https://ipywidgets.readthedocs.io/en/stable/user_install.html\n",
      "  from .autonotebook import tqdm as notebook_tqdm\n"
     ]
    }
   ],
   "source": [
    "from llama_index.core import KnowledgeGraphIndex, SimpleDirectoryReader\n",
    "from llama_index.core import StorageContext\n",
    "from llama_index.graph_stores.neo4j import Neo4jGraphStore\n",
    "\n",
    "\n",
    "from llama_index.llms.openai import OpenAI\n",
    "from IPython.display import Markdown, display"
   ]
  },
  {
   "cell_type": "code",
   "execution_count": 3,
   "metadata": {},
   "outputs": [
    {
     "name": "stdout",
     "output_type": "stream",
     "text": [
      "100\n",
      "Document Metadata: {'page_label': '1', 'file_name': 'Solar_System_Exploration_and_India_contributions.pdf', 'file_path': 'data/Solar_System_Exploration_and_India_contributions.pdf', 'file_type': 'application/pdf', 'file_size': 4047124, 'creation_date': '2024-06-22', 'last_modified_date': '2024-06-05'}\n"
     ]
    }
   ],
   "source": [
    "documents = SimpleDirectoryReader(input_files = ['data/Solar_System_Exploration_and_India_contributions.pdf']).load_data()\n",
    "print(len(documents))\n",
    "print(f\"Document Metadata: {documents[0].metadata}\")\n"
   ]
  },
  {
   "cell_type": "code",
   "execution_count": 8,
   "metadata": {},
   "outputs": [],
   "source": [
    "graph_store = Neo4jGraphStore(\n",
    "    username=NEO4J_USERNAME,\n",
    "    password=NEO4J_PASSWORD,\n",
    "    url=NEO4J_URI,\n",
    "    database=NEO4J_DATABASE,\n",
    ")\n",
    "\n",
    "storage_context = StorageContext.from_defaults(graph_store=graph_store)"
   ]
  },
  {
   "cell_type": "code",
   "execution_count": 9,
   "metadata": {},
   "outputs": [
    {
     "data": {
      "text/plain": [
       "[]"
      ]
     },
     "execution_count": 9,
     "metadata": {},
     "output_type": "execute_result"
    }
   ],
   "source": [
    "# Clean dataset first\n",
    "graph_store.query(\n",
    "    \"\"\"\n",
    "MATCH (n) DETACH DELETE n\n",
    "\"\"\"\n",
    ")"
   ]
  },
  {
   "cell_type": "code",
   "execution_count": 10,
   "metadata": {},
   "outputs": [],
   "source": [
    "# NOTE: can take a while!\n",
    "index = KnowledgeGraphIndex.from_documents(\n",
    "    documents,\n",
    "    storage_context=storage_context,\n",
    "    max_triplets_per_chunk=2,\n",
    ")"
   ]
  },
  {
   "cell_type": "code",
   "execution_count": 12,
   "metadata": {},
   "outputs": [],
   "source": [
    "query_engine = index.as_query_engine(\n",
    "    include_text=False, response_mode=\"tree_summarize\"\n",
    ")\n",
    "\n",
    "response = query_engine.query(\"What is India's achievement in the latest space mission ? Give details of the Project, in few paragraphs\")"
   ]
  },
  {
   "cell_type": "code",
   "execution_count": 13,
   "metadata": {},
   "outputs": [
    {
     "data": {
      "text/markdown": [
       "<b>India's achievement in the latest space mission is the successful launch and operation of the Mars Orbiter Mission, also known as Mangalyaan. Launched in November 2013, this mission marked a significant milestone for India's space exploration efforts. The Mars Orbiter Mission aimed to study the Martian atmosphere, surface, and mineral composition, as well as to explore the possibility of life on Mars.\n",
       "\n",
       "During the mission, the Mars Orbiter spacecraft captured images of the Martian surface, reported about bright hazes in the atmosphere, and provided valuable scientific data. It carried advanced instruments like the Mars Exospheric Neutral Composition Analyser to analyze the Martian exosphere. The mission achieved a notable feat by successfully entering Mars' orbit, making India the first Asian nation to reach the Martian orbit and the fourth space agency globally to do so.\n",
       "\n",
       "The Mars Orbiter Mission showcased India's capabilities in space technology and exploration, establishing the country as a leading force in space research. The project not only demonstrated India's technological prowess but also highlighted the country's significant contributions to solar system exploration. Dr. Tirtha Pratim Das, with his notable contributions, played a crucial role in India's success in the Mars Orbiter Mission, further solidifying India's position in the realm of space exploration.</b>"
      ],
      "text/plain": [
       "<IPython.core.display.Markdown object>"
      ]
     },
     "metadata": {},
     "output_type": "display_data"
    }
   ],
   "source": [
    "display(Markdown(f\"<b>{response}</b>\"))"
   ]
  },
  {
   "cell_type": "code",
   "execution_count": 14,
   "metadata": {},
   "outputs": [
    {
     "name": "stdout",
     "output_type": "stream",
     "text": [
      "Node ID: 3ccdd9d4-3822-4079-934e-759188e9d7d2\n",
      "Text: The following are knowledge sequence in max depth 2 in the form\n",
      "of directed graph like: `subject -[predicate]->, object,\n",
      "<-[predicate_next_hop]-, object_next_hop ...` ['BASED',\n",
      "'Observations'] ['BASED', 'Observations', 'OFFER', 'Opportunity']\n",
      "['BASED', 'Observations', 'OFFER', 'Advantages'] ['BASED',\n",
      "'Observations', 'CAN_BE', 'Ground-based'] ['H...\n",
      "Score:  1000.000\n",
      "\n"
     ]
    }
   ],
   "source": [
    "for node in response.source_nodes:\n",
    "    print(node)"
   ]
  },
  {
   "cell_type": "code",
   "execution_count": 15,
   "metadata": {},
   "outputs": [
    {
     "data": {
      "text/markdown": [
       "<b>India's achievement with Chandrayaan 3, in comparison to previous Moon missions, involves significant advancements in lunar exploration. Chandrayaan 3 marks a notable feat in the realm of solar system exploration, showcasing India as a leading force in space exploration. The mission builds upon the successes of previous missions like Chandrayaan 1 and the Mars Orbiter Mission, which have made remarkable strides in space exploration.\n",
       "\n",
       "Chandrayaan 3, similar to the Mars Orbiter Mission, has conducted detailed observations and studies. It has reported about bright hazes on the Moon's surface and captured high-quality images to provide valuable scientific data. The mission carries advanced instruments like the Mars exospheric neutral composition analyser to enhance its research capabilities.\n",
       "\n",
       "Overall, Chandrayaan 3's achievements in lunar exploration, coupled with its detailed observations and scientific contributions, demonstrate India's commitment to pushing the boundaries of space exploration and contributing significantly to our understanding of celestial bodies like the Moon.</b>"
      ],
      "text/plain": [
       "<IPython.core.display.Markdown object>"
      ]
     },
     "metadata": {},
     "output_type": "display_data"
    }
   ],
   "source": [
    "response = query_engine.query(\n",
    "    \"What is India's achievement Chandrayaan 3 as compared to previous Moon missions, compare in detail with observations\",\n",
    ")\n",
    "\n",
    "display(Markdown(f\"<b>{response}</b>\"))"
   ]
  },
  {
   "cell_type": "code",
   "execution_count": 16,
   "metadata": {},
   "outputs": [],
   "source": [
    "from llama_index.tools.neo4j import Neo4jQueryToolSpec\n",
    "from llama_index.llms.openai import OpenAI\n",
    "from llama_index.agent.openai import OpenAIAgent\n"
   ]
  },
  {
   "cell_type": "code",
   "execution_count": 17,
   "metadata": {},
   "outputs": [],
   "source": [
    "llm = OpenAI(model=\"gpt-4\", temperature=0)\n",
    "\n",
    "gds_db = Neo4jQueryToolSpec(\n",
    "    url=NEO4J_URI,\n",
    "    user=NEO4J_USERNAME,\n",
    "    password=NEO4J_PASSWORD,\n",
    "    llm=llm,\n",
    "    database=NEO4J_DATABASE,\n",
    ")\n",
    "\n",
    "tools = gds_db.to_tool_list()\n",
    "agent = OpenAIAgent.from_tools(tools, verbose=True)"
   ]
  },
  {
   "cell_type": "code",
   "execution_count": 18,
   "metadata": {},
   "outputs": [
    {
     "name": "stdout",
     "output_type": "stream",
     "text": [
      "Added user message to memory: What is India's achievement in the latest space mission ? Give details of the Project, in few paragraphs\n",
      "=== Calling Function ===\n",
      "Calling function: run_request with args: {\"question\":\"What is India's achievement in the latest space mission?\",\"retry\":true}\n",
      "MATCH (e1:Entity {id: 'India'})-[:HAS_DONE]->(e2:Entity)-[:ACHIEVED]->(e3:Entity)\n",
      "RETURN e3.id AS Achievement\n",
      "Got output: [['Achievement']]\n",
      "========================\n",
      "\n"
     ]
    },
    {
     "data": {
      "text/plain": [
       "AgentChatResponse(response=\"India's achievement in the latest space mission is the successful launch of the Chandrayaan-2 mission. Chandrayaan-2 is India's second lunar exploration mission, which aimed to explore the uncharted lunar south pole region. The mission consisted of an orbiter, a lander named Vikram, and a rover named Pragyan. The primary objective of the mission was to demonstrate the ability to soft-land on the lunar surface and operate a robotic rover.\\n\\nThe Chandrayaan-2 mission was launched on July 22, 2019, by the Indian Space Research Organisation (ISRO) using the Geosynchronous Satellite Launch Vehicle Mark III (GSLV Mk III) rocket. The orbiter successfully entered lunar orbit on August 20, 2019, and continued to study the moon from above. However, during the landing attempt on September 7, 2019, the lander Vikram lost communication with the ground control just moments before touchdown.\\n\\nDespite the partial success of the mission, India's achievement in launching and operating the Chandrayaan-2 mission demonstrated the country's growing capabilities in space exploration. The mission provided valuable data and insights into the lunar surface and paved the way for future lunar exploration missions.\", sources=[ToolOutput(content=\"[['Achievement']]\", tool_name='run_request', raw_input={'args': (), 'kwargs': {'question': \"What is India's achievement in the latest space mission?\", 'retry': True}}, raw_output=[['Achievement']], is_error=False)], source_nodes=[], is_dummy_stream=False)"
      ]
     },
     "execution_count": 18,
     "metadata": {},
     "output_type": "execute_result"
    }
   ],
   "source": [
    "agent.chat(\"What is India's achievement in the latest space mission ? Give details of the Project, in few paragraphs\")"
   ]
  },
  {
   "cell_type": "code",
   "execution_count": 16,
   "metadata": {},
   "outputs": [],
   "source": [
    "# Clean dataset first\n",
    "graph_store.query(\n",
    "    \"\"\"\n",
    "MATCH (n) DETACH DELETE n\n",
    "\"\"\"\n",
    ")\n",
    "\n",
    "# NOTE: can take a while!\n",
    "index = KnowledgeGraphIndex.from_documents(\n",
    "    documents,\n",
    "    storage_context=storage_context,\n",
    "    max_triplets_per_chunk=2,\n",
    "    include_embeddings=True,\n",
    ")\n",
    "\n",
    "query_engine = index.as_query_engine(\n",
    "    include_text=True,\n",
    "    response_mode=\"tree_summarize\",\n",
    "    embedding_mode=\"hybrid\",\n",
    "    similarity_top_k=5,\n",
    ")\n"
   ]
  },
  {
   "cell_type": "code",
   "execution_count": 19,
   "metadata": {},
   "outputs": [],
   "source": [
    "query_engine = index.as_query_engine(\n",
    "    include_text=False, response_mode=\"tree_summarize\"\n",
    ")\n",
    "\n",
    "response = query_engine.query(\"What is India's achievement in the most recent space mission ? Give details of the Project, in few paragraphs\")\n"
   ]
  },
  {
   "cell_type": "code",
   "execution_count": 20,
   "metadata": {},
   "outputs": [
    {
     "data": {
      "text/markdown": [
       "<b>India's achievement in the most recent space mission was the successful conduct of the Mars orbiter mission. This mission, launched in November 2013, secured a notable place in the history of space exploration by providing valuable scientific data and capturing images of Mars. The Mars orbiter mission, also known as the Mangalyaan mission, showcased India's scientific prowess on a global scale. It was a significant milestone for the Indian space program, demonstrating the country's capabilities in space technology and exploration.\n",
       "\n",
       "Additionally, India's first space-based observatory, the Aditya-l1 mission, successfully reached its desired orbit, further highlighting the country's advancements in space research. The Aditya-l1 mission serves as a testament to India's commitment to space exploration and scientific discovery. Through these missions, India has made substantial contributions to the field of space science, delving into realms of solar exploration and lunar missions.\n",
       "\n",
       "Overall, India's recent achievements in space missions, particularly the Mars orbiter mission and the Aditya-l1 mission, have solidified its position as a leading force in space exploration. The successful outcomes of these projects have not only fueled the country's space program but have also paved the way for future endeavors in space research and technology development.</b>"
      ],
      "text/plain": [
       "<IPython.core.display.Markdown object>"
      ]
     },
     "metadata": {},
     "output_type": "display_data"
    }
   ],
   "source": [
    "display(Markdown(f\"<b>{response}</b>\"))"
   ]
  },
  {
   "cell_type": "code",
   "execution_count": null,
   "metadata": {},
   "outputs": [],
   "source": []
  }
 ],
 "metadata": {
  "kernelspec": {
   "display_name": "llama_env",
   "language": "python",
   "name": "llama_env"
  },
  "language_info": {
   "codemirror_mode": {
    "name": "ipython",
    "version": 3
   },
   "file_extension": ".py",
   "mimetype": "text/x-python",
   "name": "python",
   "nbconvert_exporter": "python",
   "pygments_lexer": "ipython3",
   "version": "3.11.9"
  }
 },
 "nbformat": 4,
 "nbformat_minor": 4
}
