{
 "cells": [
  {
   "cell_type": "code",
   "execution_count": 1,
   "metadata": {},
   "outputs": [],
   "source": [
    "from llama_index.core import SimpleDirectoryReader,VectorStoreIndex,SummaryIndex,KnowledgeGraphIndex\n",
    "from llama_index.core.graph_stores import SimpleGraphStore\n",
    "from llama_index.core import StorageContext\n",
    "from pyvis.network import Network\n",
    "from IPython.display import Markdown, display"
   ]
  },
  {
   "cell_type": "code",
   "execution_count": 2,
   "metadata": {},
   "outputs": [
    {
     "name": "stdout",
     "output_type": "stream",
     "text": [
      "100\n",
      "Document Metadata: {'page_label': '1', 'file_name': 'Solar_System_Exploration_and_India_contributions.pdf', 'file_path': 'data/Solar_System_Exploration_and_India_contributions.pdf', 'file_type': 'application/pdf', 'file_size': 4047124, 'creation_date': '2024-06-22', 'last_modified_date': '2024-06-05'}\n"
     ]
    }
   ],
   "source": [
    "documents = SimpleDirectoryReader(input_files = ['data/Solar_System_Exploration_and_India_contributions.pdf']).load_data()\n",
    "print(len(documents))\n",
    "print(f\"Document Metadata: {documents[0].metadata}\")\n",
    "\n",
    "graph_store = SimpleGraphStore()\n",
    "storage_context = StorageContext.from_defaults(graph_store=graph_store)\n",
    "\n",
    "# NOTE: can take a while!\n",
    "index = KnowledgeGraphIndex.from_documents(\n",
    "    documents,\n",
    "    max_triplets_per_chunk=2,\n",
    "    storage_context=storage_context,\n",
    ")\n"
   ]
  },
  {
   "cell_type": "code",
   "execution_count": 6,
   "metadata": {},
   "outputs": [
    {
     "name": "stdout",
     "output_type": "stream",
     "text": [
      "example.html\n"
     ]
    },
    {
     "data": {
      "text/html": [
       "\n",
       "        <iframe\n",
       "            width=\"100%\"\n",
       "            height=\"600px\"\n",
       "            src=\"example.html\"\n",
       "            frameborder=\"0\"\n",
       "            allowfullscreen\n",
       "            \n",
       "        ></iframe>\n",
       "        "
      ],
      "text/plain": [
       "<IPython.lib.display.IFrame at 0x7f645b849650>"
      ]
     },
     "execution_count": 6,
     "metadata": {},
     "output_type": "execute_result"
    }
   ],
   "source": [
    "g = index.get_networkx_graph()\n",
    "net = Network(notebook=True, cdn_resources=\"in_line\", directed=True)\n",
    "net.from_nx(g)\n",
    "net.show(\"example.html\")"
   ]
  },
  {
   "cell_type": "code",
   "execution_count": 4,
   "metadata": {},
   "outputs": [
    {
     "data": {
      "text/markdown": [
       "<b>India's achievement in the latest space mission is the successful launch and operation of the Mars Orbiter Mission. Launched in November 2013, this mission marked a significant milestone for India's space exploration endeavors. The Mars Orbiter Mission, also known as Mangalyaan, not only provided valuable scientific data but also established India as a leading force in space exploration. It returned valuable scientific observations, reported about bright hazes on Mars, achieved notable feats, captured images, and overall showcased India's technological capabilities on a global scale.\n",
       "\n",
       "Furthermore, India has been making remarkable strides in recent years with a series of successful missions like Aditya-L1, which reached its desired orbit, and embarking on a lunar exploration journey. These missions stand as a testament to the nation's scientific prowess and its commitment to delving into the realm of solar system exploration. India's significant contributions to solar system exploration, including the work of Dr. Tirtha Pratim Das, highlight the country's dedication to advancing scientific knowledge and pushing the boundaries of space exploration.</b>"
      ],
      "text/plain": [
       "<IPython.core.display.Markdown object>"
      ]
     },
     "metadata": {},
     "output_type": "display_data"
    }
   ],
   "source": [
    "query_engine = index.as_query_engine(\n",
    "    include_text=False, response_mode=\"tree_summarize\"\n",
    ")\n",
    "response = query_engine.query(\n",
    "    \"What is India's achievement in the latest space mission ? Give details of the Project in few paragraphs\",\n",
    ")\n",
    "display(Markdown(f\"<b>{response}</b>\"))"
   ]
  },
  {
   "cell_type": "code",
   "execution_count": 7,
   "metadata": {},
   "outputs": [
    {
     "data": {
      "text/plain": [
       "[NodeWithScore(node=TextNode(id_='2e7255a8-0691-4a73-9835-7e5747ce32ec', embedding=None, metadata={'kg_rel_texts': [\"['India', 'Has contributions to', 'Solar system exploration']\", '[\\'Solar system exploration\\', \"India\\'s contribution\", \\'Dr. tirtha pratim das\\']', '[\\'Solar system exploration\\', \"Beginner\\'s guide\", \\'Science for people\\']', '[\\'Solar system exploration\\', \"India\\'s contribution\", \\'Dr. tirtha pratim das\\']', \"['India', 'Conducted', 'Mars orbiter mission']\", \"['Mars orbiter mission', 'Provided', 'Scientific data']\", \"['Mars orbiter mission', 'Launched in', 'November 2013']\", \"['Mars orbiter mission', 'Established india as', 'Leading force']\", \"['Mars orbiter mission', 'Returned', 'Valuable scientific observations']\", \"['Mars orbiter mission', 'Reported about', 'Bright hazes']\", \"['Mars orbiter mission', 'Achieved', 'Notable feat']\", \"['Mars orbiter mission', 'Captured', 'Images']\", \"['India', 'Has witnessed', 'Remarkable strides']\", \"['India', 'Fueled', 'Recent years']\", \"['India', 'Embarked on', 'Series of missions']\", \"['India', 'Has sent', 'Aditya-l1']\", \"['Aditya-l1', 'Reached', 'Desired orbit']\", \"['India', 'Embarked on', 'Lunar exploration journey']\", '[\\'India\\', \\'Stands as\\', \"Testament to nation\\'s scientific prowess\"]', \"['India', 'Delves into', 'Realm of solar exploration']\", \"['India', 'Has significant contributions to', 'Solar system exploration']\", '[\\'Solar system exploration\\', \"India\\'s contribution\", \\'Dr. tirtha pratim das\\']', '[\\'Solar system exploration\\', \"Beginner\\'s guide\", \\'Science for people\\']', '[\\'Solar system exploration\\', \"India\\'s contribution\", \\'Dr. tirtha pratim das\\']'], 'kg_rel_map': {'India': [['India', 'Has contributions to', 'Solar system exploration'], ['Solar system exploration', \"India's contribution\", 'Dr. tirtha pratim das'], ['Solar system exploration', \"Beginner's guide\", 'Science for people'], ['Solar system exploration', \"India's contribution\", 'Dr. tirtha pratim das'], ['India', 'Conducted', 'Mars orbiter mission'], ['Mars orbiter mission', 'Provided', 'Scientific data'], ['Mars orbiter mission', 'Launched in', 'November 2013'], ['Mars orbiter mission', 'Established india as', 'Leading force'], ['Mars orbiter mission', 'Returned', 'Valuable scientific observations'], ['Mars orbiter mission', 'Reported about', 'Bright hazes'], ['Mars orbiter mission', 'Achieved', 'Notable feat'], ['Mars orbiter mission', 'Captured', 'Images'], ['India', 'Has witnessed', 'Remarkable strides'], ['India', 'Fueled', 'Recent years'], ['India', 'Embarked on', 'Series of missions'], ['India', 'Has sent', 'Aditya-l1'], ['Aditya-l1', 'Reached', 'Desired orbit'], ['India', 'Embarked on', 'Lunar exploration journey'], ['India', 'Stands as', \"Testament to nation's scientific prowess\"], ['India', 'Delves into', 'Realm of solar exploration'], ['India', 'Has significant contributions to', 'Solar system exploration'], ['Solar system exploration', \"India's contribution\", 'Dr. tirtha pratim das'], ['Solar system exploration', \"Beginner's guide\", 'Science for people'], ['Solar system exploration', \"India's contribution\", 'Dr. tirtha pratim das']], 'project': [], 'achievement': [], 'details': [], 'mission': [], 'space mission': [], 'space': []}}, excluded_embed_metadata_keys=['kg_rel_map', 'kg_rel_texts'], excluded_llm_metadata_keys=['kg_rel_map', 'kg_rel_texts'], relationships={}, text='The following are knowledge sequence in max depth 2 in the form of directed graph like:\\n`subject -[predicate]->, object, <-[predicate_next_hop]-, object_next_hop ...`\\n[\\'India\\', \\'Has contributions to\\', \\'Solar system exploration\\']\\n[\\'Solar system exploration\\', \"India\\'s contribution\", \\'Dr. tirtha pratim das\\']\\n[\\'Solar system exploration\\', \"Beginner\\'s guide\", \\'Science for people\\']\\n[\\'Solar system exploration\\', \"India\\'s contribution\", \\'Dr. tirtha pratim das\\']\\n[\\'India\\', \\'Conducted\\', \\'Mars orbiter mission\\']\\n[\\'Mars orbiter mission\\', \\'Provided\\', \\'Scientific data\\']\\n[\\'Mars orbiter mission\\', \\'Launched in\\', \\'November 2013\\']\\n[\\'Mars orbiter mission\\', \\'Established india as\\', \\'Leading force\\']\\n[\\'Mars orbiter mission\\', \\'Returned\\', \\'Valuable scientific observations\\']\\n[\\'Mars orbiter mission\\', \\'Reported about\\', \\'Bright hazes\\']\\n[\\'Mars orbiter mission\\', \\'Achieved\\', \\'Notable feat\\']\\n[\\'Mars orbiter mission\\', \\'Captured\\', \\'Images\\']\\n[\\'India\\', \\'Has witnessed\\', \\'Remarkable strides\\']\\n[\\'India\\', \\'Fueled\\', \\'Recent years\\']\\n[\\'India\\', \\'Embarked on\\', \\'Series of missions\\']\\n[\\'India\\', \\'Has sent\\', \\'Aditya-l1\\']\\n[\\'Aditya-l1\\', \\'Reached\\', \\'Desired orbit\\']\\n[\\'India\\', \\'Embarked on\\', \\'Lunar exploration journey\\']\\n[\\'India\\', \\'Stands as\\', \"Testament to nation\\'s scientific prowess\"]\\n[\\'India\\', \\'Delves into\\', \\'Realm of solar exploration\\']\\n[\\'India\\', \\'Has significant contributions to\\', \\'Solar system exploration\\']\\n[\\'Solar system exploration\\', \"India\\'s contribution\", \\'Dr. tirtha pratim das\\']\\n[\\'Solar system exploration\\', \"Beginner\\'s guide\", \\'Science for people\\']\\n[\\'Solar system exploration\\', \"India\\'s contribution\", \\'Dr. tirtha pratim das\\']', start_char_idx=None, end_char_idx=None, text_template='{metadata_str}\\n\\n{content}', metadata_template='{key}: {value}', metadata_seperator='\\n'), score=1000.0)]"
      ]
     },
     "execution_count": 7,
     "metadata": {},
     "output_type": "execute_result"
    }
   ],
   "source": [
    "response.source_nodes"
   ]
  },
  {
   "cell_type": "code",
   "execution_count": 6,
   "metadata": {},
   "outputs": [
    {
     "data": {
      "text/markdown": [
       "<b>India's achievement with Chandrayaan 3, as compared to previous Moon missions, is significant. Chandrayaan 3 has provided valuable scientific observations and data, similar to the Mars Orbiter Mission. This mission has furthered India's contributions to lunar exploration, building on the success of previous missions like the Mars Orbiter Mission and Aditya - L1. Chandrayaan 3's observations have the potential to enhance our understanding of the Moon's surface and geological composition, similar to how the Mars Orbiter Mission provided insights into Mars' atmosphere and surface features.</b>"
      ],
      "text/plain": [
       "<IPython.core.display.Markdown object>"
      ]
     },
     "metadata": {},
     "output_type": "display_data"
    }
   ],
   "source": [
    "response = query_engine.query(\n",
    "    \"What is India's achievement Chandrayaan 3 as compared to previous Moon missions, compare in detail with observations\",\n",
    ")\n",
    "\n",
    "display(Markdown(f\"<b>{response}</b>\"))"
   ]
  },
  {
   "cell_type": "code",
   "execution_count": 1,
   "metadata": {},
   "outputs": [
    {
     "name": "stdout",
     "output_type": "stream",
     "text": [
      "100\n",
      "Document Metadata: {'page_label': '1', 'file_name': 'Solar_System_Exploration_and_India_contributions.pdf', 'file_path': 'data/Solar_System_Exploration_and_India_contributions.pdf', 'file_type': 'application/pdf', 'file_size': 4047124, 'creation_date': '2024-06-22', 'last_modified_date': '2024-06-05'}\n"
     ]
    }
   ],
   "source": [
    "from llama_index.core import SimpleDirectoryReader,VectorStoreIndex,SummaryIndex\n",
    "from llama_index.core.node_parser import SentenceSplitter\n",
    "\n",
    "documents = SimpleDirectoryReader(input_files = ['data/Solar_System_Exploration_and_India_contributions.pdf']).load_data()\n",
    "print(len(documents))\n",
    "print(f\"Document Metadata: {documents[0].metadata}\")\n",
    "\n",
    "splitter = SentenceSplitter(chunk_size=1024,chunk_overlap=100)\n",
    "nodes = splitter.get_nodes_from_documents(documents)"
   ]
  },
  {
   "cell_type": "code",
   "execution_count": 16,
   "metadata": {},
   "outputs": [
    {
     "name": "stdout",
     "output_type": "stream",
     "text": [
      "Node ID: 710dec9f-1396-4b67-9030-ad9b8d759fb1\n",
      "Text: [10]   Formation of the Solar System   Around 4.5 billion years\n",
      "ago, our solar system began its journey  from a dense, swirling cloud\n",
      "of interstellar gas and dust. The  trigger for this celestial dance\n",
      "might have been a nearby  supernova1, its explosiv e shockwave setting\n",
      "off the collapse of this  primordial cloud. As gravity took hold, the\n",
      "clou...\n"
     ]
    }
   ],
   "source": [
    "print(nodes[10])"
   ]
  },
  {
   "cell_type": "code",
   "execution_count": null,
   "metadata": {},
   "outputs": [],
   "source": []
  }
 ],
 "metadata": {
  "kernelspec": {
   "display_name": "llama_env",
   "language": "python",
   "name": "llama_env"
  },
  "language_info": {
   "codemirror_mode": {
    "name": "ipython",
    "version": 3
   },
   "file_extension": ".py",
   "mimetype": "text/x-python",
   "name": "python",
   "nbconvert_exporter": "python",
   "pygments_lexer": "ipython3",
   "version": "3.11.9"
  }
 },
 "nbformat": 4,
 "nbformat_minor": 4
}
