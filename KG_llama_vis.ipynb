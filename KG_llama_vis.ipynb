{
 "cells": [
  {
   "cell_type": "code",
   "execution_count": 1,
   "metadata": {},
   "outputs": [
    {
     "name": "stderr",
     "output_type": "stream",
     "text": [
      "/home/anish/anaconda3/envs/llama_env/lib/python3.11/site-packages/tqdm/auto.py:21: TqdmWarning: IProgress not found. Please update jupyter and ipywidgets. See https://ipywidgets.readthedocs.io/en/stable/user_install.html\n",
      "  from .autonotebook import tqdm as notebook_tqdm\n"
     ]
    }
   ],
   "source": [
    "from llama_index.core import SimpleDirectoryReader,VectorStoreIndex,SummaryIndex,KnowledgeGraphIndex\n",
    "from llama_index.core.graph_stores import SimpleGraphStore\n",
    "from llama_index.core import StorageContext\n",
    "from pyvis.network import Network\n",
    "from IPython.display import Markdown, display"
   ]
  },
  {
   "cell_type": "code",
   "execution_count": 2,
   "metadata": {},
   "outputs": [
    {
     "name": "stdout",
     "output_type": "stream",
     "text": [
      "100\n",
      "Document Metadata: {'page_label': '1', 'file_name': 'Solar_System_Exploration_and_India_contributions.pdf', 'file_path': 'data/Solar_System_Exploration_and_India_contributions.pdf', 'file_type': 'application/pdf', 'file_size': 4047124, 'creation_date': '2024-06-22', 'last_modified_date': '2024-06-05'}\n"
     ]
    }
   ],
   "source": [
    "documents = SimpleDirectoryReader(input_files = ['data/Solar_System_Exploration_and_India_contributions.pdf']).load_data()\n",
    "print(len(documents))\n",
    "print(f\"Document Metadata: {documents[0].metadata}\")\n",
    "\n",
    "graph_store = SimpleGraphStore()\n",
    "storage_context = StorageContext.from_defaults(graph_store=graph_store)\n",
    "\n",
    "# NOTE: can take a while!\n",
    "index = KnowledgeGraphIndex.from_documents(\n",
    "    documents,\n",
    "    max_triplets_per_chunk=2,\n",
    "    storage_context=storage_context,\n",
    ")\n"
   ]
  },
  {
   "cell_type": "code",
   "execution_count": 3,
   "metadata": {},
   "outputs": [
    {
     "name": "stdout",
     "output_type": "stream",
     "text": [
      "example.html\n"
     ]
    },
    {
     "data": {
      "text/html": [
       "\n",
       "        <iframe\n",
       "            width=\"100%\"\n",
       "            height=\"600px\"\n",
       "            src=\"example.html\"\n",
       "            frameborder=\"0\"\n",
       "            allowfullscreen\n",
       "            \n",
       "        ></iframe>\n",
       "        "
      ],
      "text/plain": [
       "<IPython.lib.display.IFrame at 0x7fb2207bef90>"
      ]
     },
     "execution_count": 3,
     "metadata": {},
     "output_type": "execute_result"
    }
   ],
   "source": [
    "g = index.get_networkx_graph()\n",
    "net = Network(notebook=True, cdn_resources=\"in_line\", directed=True)\n",
    "net.from_nx(g)\n",
    "net.show(\"example.html\")"
   ]
  },
  {
   "cell_type": "code",
   "execution_count": 4,
   "metadata": {},
   "outputs": [
    {
     "data": {
      "text/markdown": [
       "<b>India's achievement in the latest space mission is the successful launch and execution of the Mars Orbiter Mission, also known as Mangalyaan. Launched in November 2013, this mission marked a significant milestone for India's space exploration endeavors. The Mars Orbiter Mission provided valuable scientific data, including capturing images and reporting about bright hazes on Mars. It carried advanced instruments like the Mars Exospheric Neutral Composition Analyser and achieved a notable feat by reaching Mars' orbit.\n",
       "\n",
       "In addition to the Mars Orbiter Mission, India has also made remarkable strides in space exploration with projects like Chandrayaan-1 and Aditya-l1. Chandrayaan-1 was India's first lunar exploration mission, while Aditya-l1 successfully reached its desired orbit, further showcasing India's capabilities in space technology.\n",
       "\n",
       "India has established itself as a leading force in space exploration, delving into the realm of solar exploration as well. The country has significant contributions to solar system exploration, with notable figures like Dr. Tirtha Pratim Das playing a key role in advancing India's presence in this field. Through initiatives like the Mars Orbiter Mission and other space projects, India continues to expand its footprint in the realm of space exploration, showcasing technological prowess and scientific innovation on a global scale.</b>"
      ],
      "text/plain": [
       "<IPython.core.display.Markdown object>"
      ]
     },
     "metadata": {},
     "output_type": "display_data"
    }
   ],
   "source": [
    "query_engine = index.as_query_engine(\n",
    "    include_text=False, response_mode=\"tree_summarize\"\n",
    ")\n",
    "response = query_engine.query(\n",
    "    \"What is India's achievement in the latest space mission ? Give details of the Project in few paragraphs\",\n",
    ")\n",
    "display(Markdown(f\"<b>{response}</b>\"))"
   ]
  },
  {
   "cell_type": "code",
   "execution_count": 5,
   "metadata": {},
   "outputs": [
    {
     "data": {
      "text/plain": [
       "[NodeWithScore(node=TextNode(id_='fc36f5f4-5385-4cbd-a22e-811056bcc2e9', embedding=None, metadata={'kg_rel_texts': [\"['India', 'Made', 'Contributions']\", \"['India', 'Conducted', 'Mars orbiter mission']\", \"['Mars orbiter mission', 'Provided', 'Scientific data']\", \"['Mars orbiter mission', 'Launched in', 'November 2013']\", \"['Mars orbiter mission', 'Known as', 'Mangalyaan']\", \"['Mars orbiter mission', 'Carried', 'Mars exospheric neutral composition analyser']\", \"['Mars orbiter mission', 'Reported about', 'Bright hazes']\", \"['Mars orbiter mission', 'Achieved', 'Notable feat']\", \"['Mars orbiter mission', 'Captured', 'Images']\", \"['India', 'Has witnessed', 'Remarkable strides']\", \"['India', 'Launched', 'Chandrayaan -1']\", \"['India', 'Has sent', 'Aditya-l1']\", \"['Aditya-l1', 'Reached', 'Desired orbit']\", \"['India', 'Embarked on', 'Lunar exploration journey']\", \"['India', 'Established as', 'Leading force']\", \"['India', 'Delves into', 'Realm of solar exploration']\", \"['India', 'Has significant contributions to', 'Solar system exploration']\", '[\\'Solar system exploration\\', \"India\\'s contribution\", \\'Dr. tirtha pratim das\\']', '[\\'Solar system exploration\\', \"Beginner\\'s guide\", \\'Dr. tirtha pratim das\\']', '[\\'Solar system exploration\\', \"India\\'s contribution\", \\'Dr. tirtha pratim das\\']', '[\\'Solar system exploration\\', \"Beginner\\'s guide\", \\'A\\']'], 'kg_rel_map': {'space mission': [], 'achievement': [], 'project': [], 'details': [], 'India': [['India', 'Made', 'Contributions'], ['India', 'Conducted', 'Mars orbiter mission'], ['Mars orbiter mission', 'Provided', 'Scientific data'], ['Mars orbiter mission', 'Launched in', 'November 2013'], ['Mars orbiter mission', 'Known as', 'Mangalyaan'], ['Mars orbiter mission', 'Carried', 'Mars exospheric neutral composition analyser'], ['Mars orbiter mission', 'Reported about', 'Bright hazes'], ['Mars orbiter mission', 'Achieved', 'Notable feat'], ['Mars orbiter mission', 'Captured', 'Images'], ['India', 'Has witnessed', 'Remarkable strides'], ['India', 'Launched', 'Chandrayaan -1'], ['India', 'Has sent', 'Aditya-l1'], ['Aditya-l1', 'Reached', 'Desired orbit'], ['India', 'Embarked on', 'Lunar exploration journey'], ['India', 'Established as', 'Leading force'], ['India', 'Delves into', 'Realm of solar exploration'], ['India', 'Has significant contributions to', 'Solar system exploration'], ['Solar system exploration', \"India's contribution\", 'Dr. tirtha pratim das'], ['Solar system exploration', \"Beginner's guide\", 'Dr. tirtha pratim das'], ['Solar system exploration', \"India's contribution\", 'Dr. tirtha pratim das'], ['Solar system exploration', \"Beginner's guide\", 'A']], 'space': [], 'mission': []}}, excluded_embed_metadata_keys=['kg_rel_map', 'kg_rel_texts'], excluded_llm_metadata_keys=['kg_rel_map', 'kg_rel_texts'], relationships={}, text='The following are knowledge sequence in max depth 2 in the form of directed graph like:\\n`subject -[predicate]->, object, <-[predicate_next_hop]-, object_next_hop ...`\\n[\\'India\\', \\'Made\\', \\'Contributions\\']\\n[\\'India\\', \\'Conducted\\', \\'Mars orbiter mission\\']\\n[\\'Mars orbiter mission\\', \\'Provided\\', \\'Scientific data\\']\\n[\\'Mars orbiter mission\\', \\'Launched in\\', \\'November 2013\\']\\n[\\'Mars orbiter mission\\', \\'Known as\\', \\'Mangalyaan\\']\\n[\\'Mars orbiter mission\\', \\'Carried\\', \\'Mars exospheric neutral composition analyser\\']\\n[\\'Mars orbiter mission\\', \\'Reported about\\', \\'Bright hazes\\']\\n[\\'Mars orbiter mission\\', \\'Achieved\\', \\'Notable feat\\']\\n[\\'Mars orbiter mission\\', \\'Captured\\', \\'Images\\']\\n[\\'India\\', \\'Has witnessed\\', \\'Remarkable strides\\']\\n[\\'India\\', \\'Launched\\', \\'Chandrayaan -1\\']\\n[\\'India\\', \\'Has sent\\', \\'Aditya-l1\\']\\n[\\'Aditya-l1\\', \\'Reached\\', \\'Desired orbit\\']\\n[\\'India\\', \\'Embarked on\\', \\'Lunar exploration journey\\']\\n[\\'India\\', \\'Established as\\', \\'Leading force\\']\\n[\\'India\\', \\'Delves into\\', \\'Realm of solar exploration\\']\\n[\\'India\\', \\'Has significant contributions to\\', \\'Solar system exploration\\']\\n[\\'Solar system exploration\\', \"India\\'s contribution\", \\'Dr. tirtha pratim das\\']\\n[\\'Solar system exploration\\', \"Beginner\\'s guide\", \\'Dr. tirtha pratim das\\']\\n[\\'Solar system exploration\\', \"India\\'s contribution\", \\'Dr. tirtha pratim das\\']\\n[\\'Solar system exploration\\', \"Beginner\\'s guide\", \\'A\\']', start_char_idx=None, end_char_idx=None, text_template='{metadata_str}\\n\\n{content}', metadata_template='{key}: {value}', metadata_seperator='\\n'), score=1000.0)]"
      ]
     },
     "execution_count": 5,
     "metadata": {},
     "output_type": "execute_result"
    }
   ],
   "source": [
    "response.source_nodes"
   ]
  },
  {
   "cell_type": "code",
   "execution_count": 6,
   "metadata": {},
   "outputs": [
    {
     "data": {
      "text/markdown": [
       "<b>India's achievement with Chandrayaan 3, compared to previous Moon missions, lies in its advancements in lunar exploration. Chandrayaan 3 builds upon the success of Chandrayaan -1 and Aditya-l1, showcasing India's continued progress in space exploration. Chandrayaan 3's observations are expected to provide valuable insights into the Moon's surface and composition, potentially surpassing the achievements of its predecessors by enhancing our understanding of lunar geology and mineralogy. The mission aims to further expand India's presence in space exploration and contribute significantly to the global scientific community's knowledge of the Moon.</b>"
      ],
      "text/plain": [
       "<IPython.core.display.Markdown object>"
      ]
     },
     "metadata": {},
     "output_type": "display_data"
    }
   ],
   "source": [
    "response = query_engine.query(\n",
    "    \"What is India's achievement Chandrayaan 3 as compared to previous Moon missions, compare in detail with observations\",\n",
    ")\n",
    "\n",
    "display(Markdown(f\"<b>{response}</b>\"))"
   ]
  },
  {
   "cell_type": "code",
   "execution_count": 1,
   "metadata": {},
   "outputs": [
    {
     "name": "stdout",
     "output_type": "stream",
     "text": [
      "100\n",
      "Document Metadata: {'page_label': '1', 'file_name': 'Solar_System_Exploration_and_India_contributions.pdf', 'file_path': 'data/Solar_System_Exploration_and_India_contributions.pdf', 'file_type': 'application/pdf', 'file_size': 4047124, 'creation_date': '2024-06-22', 'last_modified_date': '2024-06-05'}\n"
     ]
    }
   ],
   "source": [
    "from llama_index.core import SimpleDirectoryReader,VectorStoreIndex,SummaryIndex\n",
    "from llama_index.core.node_parser import SentenceSplitter\n",
    "\n",
    "documents = SimpleDirectoryReader(input_files = ['data/Solar_System_Exploration_and_India_contributions.pdf']).load_data()\n",
    "print(len(documents))\n",
    "print(f\"Document Metadata: {documents[0].metadata}\")\n",
    "\n",
    "splitter = SentenceSplitter(chunk_size=1024,chunk_overlap=100)\n",
    "nodes = splitter.get_nodes_from_documents(documents)"
   ]
  },
  {
   "cell_type": "code",
   "execution_count": 16,
   "metadata": {},
   "outputs": [
    {
     "name": "stdout",
     "output_type": "stream",
     "text": [
      "Node ID: 710dec9f-1396-4b67-9030-ad9b8d759fb1\n",
      "Text: [10]   Formation of the Solar System   Around 4.5 billion years\n",
      "ago, our solar system began its journey  from a dense, swirling cloud\n",
      "of interstellar gas and dust. The  trigger for this celestial dance\n",
      "might have been a nearby  supernova1, its explosiv e shockwave setting\n",
      "off the collapse of this  primordial cloud. As gravity took hold, the\n",
      "clou...\n"
     ]
    }
   ],
   "source": [
    "print(nodes[10])"
   ]
  },
  {
   "cell_type": "code",
   "execution_count": null,
   "metadata": {},
   "outputs": [],
   "source": []
  }
 ],
 "metadata": {
  "kernelspec": {
   "display_name": "llama_env",
   "language": "python",
   "name": "llama_env"
  },
  "language_info": {
   "codemirror_mode": {
    "name": "ipython",
    "version": 3
   },
   "file_extension": ".py",
   "mimetype": "text/x-python",
   "name": "python",
   "nbconvert_exporter": "python",
   "pygments_lexer": "ipython3",
   "version": "3.11.9"
  }
 },
 "nbformat": 4,
 "nbformat_minor": 4
}
